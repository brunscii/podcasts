{
 "cells": [
  {
   "cell_type": "code",
   "execution_count": 18,
   "metadata": {},
   "outputs": [],
   "source": [
    "import pandas as pd\n",
    "from bs4 import BeautifulSoup\n",
    "import requests"
   ]
  },
  {
   "cell_type": "code",
   "execution_count": 30,
   "metadata": {},
   "outputs": [],
   "source": [
    "pods = pd.read_csv('podcasts.csv', index_col='name')"
   ]
  },
  {
   "cell_type": "code",
   "execution_count": 31,
   "metadata": {},
   "outputs": [
    {
     "data": {
      "text/html": [
       "<div>\n",
       "<style scoped>\n",
       "    .dataframe tbody tr th:only-of-type {\n",
       "        vertical-align: middle;\n",
       "    }\n",
       "\n",
       "    .dataframe tbody tr th {\n",
       "        vertical-align: top;\n",
       "    }\n",
       "\n",
       "    .dataframe thead th {\n",
       "        text-align: right;\n",
       "    }\n",
       "</style>\n",
       "<table border=\"1\" class=\"dataframe\">\n",
       "  <thead>\n",
       "    <tr style=\"text-align: right;\">\n",
       "      <th></th>\n",
       "      <th>link</th>\n",
       "    </tr>\n",
       "    <tr>\n",
       "      <th>name</th>\n",
       "      <th></th>\n",
       "    </tr>\n",
       "  </thead>\n",
       "  <tbody>\n",
       "    <tr>\n",
       "      <th>Kim Komando Daily Tech Update</th>\n",
       "      <td>https://feeds.libsyn.com/115469/rss</td>\n",
       "    </tr>\n",
       "    <tr>\n",
       "      <th>WSJ Tech News Briefing</th>\n",
       "      <td>https://video-api.wsj.com/podcast/rss/wsj/tec...</td>\n",
       "    </tr>\n",
       "    <tr>\n",
       "      <th>Gadget Lab</th>\n",
       "      <td>https://publicfeeds.net/f/5901/gadget-lab</td>\n",
       "    </tr>\n",
       "    <tr>\n",
       "      <th>TechONTAPPodcast</th>\n",
       "      <td>https://feeds.soundcloud.com/users/soundcloud...</td>\n",
       "    </tr>\n",
       "    <tr>\n",
       "      <th>Linux Out Loud</th>\n",
       "      <td>https://feeds.fireside.fm/dlnxtend/rss</td>\n",
       "    </tr>\n",
       "  </tbody>\n",
       "</table>\n",
       "</div>"
      ],
      "text/plain": [
       "                                                                            link\n",
       "name                                                                            \n",
       "Kim Komando Daily Tech Update                https://feeds.libsyn.com/115469/rss\n",
       "WSJ Tech News Briefing          https://video-api.wsj.com/podcast/rss/wsj/tec...\n",
       "Gadget Lab                             https://publicfeeds.net/f/5901/gadget-lab\n",
       "TechONTAPPodcast                https://feeds.soundcloud.com/users/soundcloud...\n",
       "Linux Out Loud                            https://feeds.fireside.fm/dlnxtend/rss"
      ]
     },
     "execution_count": 31,
     "metadata": {},
     "output_type": "execute_result"
    }
   ],
   "source": [
    "pods.head()"
   ]
  },
  {
   "cell_type": "code",
   "execution_count": 32,
   "metadata": {},
   "outputs": [
    {
     "name": "stdout",
     "output_type": "stream",
     "text": [
      " https://feeds.libsyn.com/115469/rss\n",
      " https://video-api.wsj.com/podcast/rss/wsj/tech-news-briefing\n",
      " https://publicfeeds.net/f/5901/gadget-lab\n",
      " https://feeds.soundcloud.com/users/soundcloud:users:164421460/sounds.rss\n",
      " https://feeds.fireside.fm/dlnxtend/rss\n",
      " https://latenightlinux.com/feed/all\n",
      " https://destinationlinux.org/feed/mp3/\n",
      " https://feeds.fireside.fm/linuxunplugged/rss\n",
      " https://enterpriselinuxsecurity.show/feed/podcast/\n",
      " https://latenightlinux.com/feed/extra\n",
      " https://lhspodcast.info/category/podcast-mp3/feed/\n",
      " https://tuxdigital.com/feed/thisweekinlinux-mp3\n",
      " https://linuxlads.com/feed_mp3.rss\n",
      " https://feeds.twit.tv/uls.xml\n",
      " https://feed.syntax.fm/rss\n",
      " https://changelog.com/jsparty/feed\n",
      " https://feeds.feedwrench.com/js-jabber.rss\n",
      " https://softwareengineeringdaily.com/category/javascript/feed/\n",
      " https://anchor.fm/s/e329dea0/podcast/rss\n",
      " https://realpython.com/podcasts/rpp/feed\n",
      " http://adafruit-podcasts.s3.amazonaws.com/python_on_hardware/podcast.xml\n",
      " https://pythonbytes.fm/episodes/rss\n",
      " https://anchor.fm/s/8f23717c/podcast/rss\n",
      " https://coder.show/rss\n",
      " https://atp.fm/episodes?format=rss\n",
      " https://feeds.twit.tv/tnw.xml\n",
      " https://feeds.feedburner.com/iTunesPodcastTTTechnolog\n",
      " https://feed.syntax.fm/rss\n"
     ]
    }
   ],
   "source": [
    "for i, url in pods.itertuples():\n",
    "  print(url)"
   ]
  },
  {
   "cell_type": "code",
   "execution_count": 33,
   "metadata": {},
   "outputs": [],
   "source": [
    "# pods.to_csv('pods.csv',index=True, index_label='name')"
   ]
  },
  {
   "cell_type": "code",
   "execution_count": null,
   "metadata": {},
   "outputs": [],
   "source": [
    "rssFeedEntries = []\n",
    "\n",
    "for i, url in pods.itertuples():\n",
    "  print(i,url)\n",
    "  # print(rssFeedEntries)\n",
    "  req = requests.get( url, allow_redirects=False )\n",
    "  reqCode = req.status_code\n",
    "  soup = BeautifulSoup(req.content, 'xml')\n",
    "  entries = soup.findAll('item')\n",
    "  rssFeedEntries.append([i if i else '',req, reqCode, entries ])\n",
    "  req.close()\n",
    "  soup.clear()\n",
    "  "
   ]
  },
  {
   "cell_type": "code",
   "execution_count": null,
   "metadata": {},
   "outputs": [
    {
     "name": "stdout",
     "output_type": "stream",
     "text": [
      "Kim Komando Daily Tech Update                                               <Response [200]>   200     2854\n",
      "WSJ Tech News Briefing                                                      <Response [200]>   200       20\n",
      "Gadget Lab                                                                  <Response [200]>   200      255\n",
      "TechONTAPPodcast                                                            <Response [200]>   200      405\n",
      "Linux Out Loud                                                              <Response [200]>   200      180\n",
      "Late Night Linux Family All Episodes                                        <Response [200]>   200      439\n",
      "Destination Linux                                                           <Response [200]>   200      300\n",
      "LINUX Unplugged                                                             <Response [200]>   200      547\n",
      "Enterprise Linux Security                                                   <Response [200]>   200       78\n",
      "Linux Dev Time                                                              <Response [200]>   200       90\n",
      "Linux in the Ham Shack                                                      <Response [200]>   200      532\n",
      "This Week in Linux                                                          <Response [200]>   200      250\n",
      "Linux Lads                                                                  <Response [200]>   200      117\n",
      "Untitled Linux Show (Audio)                                                 <Response [200]>   200       16\n",
      "Syntax - Tasty Web Development Treats                                       <Response [200]>   200      727\n",
      "JS Party: JavaScript, CSS, Web Development                                  <Response [200]>   200      321\n",
      "JavaScript Jabber                                                           <Response [301]>   301        0\n",
      "JavaScript Archives - Software Engineering Daily                            <Response [403]>   403        0\n",
      "Whiskey Web and Whatnot: HTML, CSS, and JavaScript Distilled                <Response [200]>   200      130\n",
      "The Real Python Podcast                                                     <Response [200]>   200      191\n",
      "Python on Hardware                                                          <Response [200]>   200      261\n",
      "Python Bytes                                                                <Response [200]>   200      369\n",
      "Sad Python Girls Club                                                       <Response [200]>   200       20\n",
      "Coder Radio                                                                 <Response [302]>   302        0\n",
      "Accidental Tech Podcast                                                     <Response [302]>   302        0\n",
      "Tech News Weekly                                                            <Response [200]>   200       10\n",
      "TED Tech                                                                    <Response [404]>   404        0\n",
      "Syntax                                                                      <Response [200]>   200      727\n"
     ]
    }
   ],
   "source": [
    "for i, r, rc, feed in rssFeedEntries:\n",
    "  print( f'{i:75} {r} {rc:5} {len(feed):8}' )"
   ]
  },
  {
   "cell_type": "code",
   "execution_count": null,
   "metadata": {},
   "outputs": [],
   "source": [
    "rp = pd.DataFrame(rssFeedEntries, columns=['name','response', 'response code','entries'])"
   ]
  },
  {
   "cell_type": "code",
   "execution_count": null,
   "metadata": {},
   "outputs": [
    {
     "data": {
      "text/plain": [
       "bs4.element.ResultSet"
      ]
     },
     "execution_count": 119,
     "metadata": {},
     "output_type": "execute_result"
    }
   ],
   "source": [
    "type(rp['entries'][0])"
   ]
  },
  {
   "cell_type": "code",
   "execution_count": null,
   "metadata": {},
   "outputs": [
    {
     "data": {
      "text/plain": [
       "requests.models.Response"
      ]
     },
     "execution_count": 120,
     "metadata": {},
     "output_type": "execute_result"
    }
   ],
   "source": [
    "type(rp['response'][0])"
   ]
  },
  {
   "cell_type": "code",
   "execution_count": null,
   "metadata": {},
   "outputs": [
    {
     "data": {
      "text/plain": [
       "200"
      ]
     },
     "execution_count": 121,
     "metadata": {},
     "output_type": "execute_result"
    }
   ],
   "source": [
    "requests.codes['OK']"
   ]
  },
  {
   "cell_type": "code",
   "execution_count": null,
   "metadata": {},
   "outputs": [
    {
     "data": {
      "text/plain": [
       "302"
      ]
     },
     "execution_count": 122,
     "metadata": {},
     "output_type": "execute_result"
    }
   ],
   "source": [
    "requests.codes['FOUND']"
   ]
  },
  {
   "cell_type": "code",
   "execution_count": null,
   "metadata": {},
   "outputs": [
    {
     "data": {
      "text/plain": [
       "'OK'"
      ]
     },
     "execution_count": 123,
     "metadata": {},
     "output_type": "execute_result"
    }
   ],
   "source": [
    "rp.response[0].reason"
   ]
  },
  {
   "cell_type": "code",
   "execution_count": null,
   "metadata": {},
   "outputs": [
    {
     "name": "stdout",
     "output_type": "stream",
     "text": [
      "1 <Response [200]> OK\n",
      "2 <Response [200]> OK\n",
      "3 <Response [200]> OK\n",
      "4 <Response [200]> OK\n",
      "5 <Response [200]> OK\n",
      "6 <Response [200]> OK\n",
      "7 <Response [200]> OK\n",
      "8 <Response [200]> OK\n",
      "9 <Response [200]> OK\n",
      "10 <Response [200]> OK\n",
      "11 <Response [200]> OK\n",
      "12 <Response [200]> OK\n",
      "13 <Response [200]> OK\n",
      "14 <Response [200]> OK\n",
      "15 <Response [200]> OK\n",
      "16 <Response [200]> OK\n",
      "17 <Response [301]> Moved Permanently\n",
      "18 <Response [403]> Forbidden\n",
      "19 <Response [200]> OK\n",
      "20 <Response [200]> OK\n",
      "21 <Response [200]> OK\n",
      "22 <Response [200]> OK\n",
      "23 <Response [200]> OK\n",
      "24 <Response [302]> Found\n",
      "25 <Response [302]> Found\n",
      "26 <Response [200]> OK\n",
      "27 <Response [404]> Not Found\n",
      "28 <Response [200]> OK\n"
     ]
    }
   ],
   "source": [
    "i = 0\n",
    "for r in rp.response:\n",
    "  i += 1\n",
    "  print ( i, r, r.reason )"
   ]
  },
  {
   "cell_type": "code",
   "execution_count": null,
   "metadata": {},
   "outputs": [],
   "source": [
    "successfulEntries = rp[ rp['response code'] == 200 ]['name']"
   ]
  },
  {
   "cell_type": "code",
   "execution_count": null,
   "metadata": {},
   "outputs": [
    {
     "data": {
      "text/plain": [
       "0                         Kim Komando Daily Tech Update\n",
       "1                                WSJ Tech News Briefing\n",
       "2                                            Gadget Lab\n",
       "3                                      TechONTAPPodcast\n",
       "4                                        Linux Out Loud\n",
       "5                  Late Night Linux Family All Episodes\n",
       "6                                     Destination Linux\n",
       "7                                       LINUX Unplugged\n",
       "8                             Enterprise Linux Security\n",
       "9                                        Linux Dev Time\n",
       "10                               Linux in the Ham Shack\n",
       "11                                   This Week in Linux\n",
       "12                                           Linux Lads\n",
       "13                          Untitled Linux Show (Audio)\n",
       "14                Syntax - Tasty Web Development Treats\n",
       "15           JS Party: JavaScript, CSS, Web Development\n",
       "18    Whiskey Web and Whatnot: HTML, CSS, and JavaSc...\n",
       "19                              The Real Python Podcast\n",
       "20                                   Python on Hardware\n",
       "21                                         Python Bytes\n",
       "22                                Sad Python Girls Club\n",
       "25                                     Tech News Weekly\n",
       "27                                               Syntax\n",
       "Name: name, dtype: object"
      ]
     },
     "execution_count": 127,
     "metadata": {},
     "output_type": "execute_result"
    }
   ],
   "source": [
    "successfulEntries"
   ]
  },
  {
   "cell_type": "code",
   "execution_count": null,
   "metadata": {},
   "outputs": [],
   "source": [
    "successfulEntries = rp.query('`response code` == 200 | `response code` == 302')['name']"
   ]
  },
  {
   "cell_type": "code",
   "execution_count": null,
   "metadata": {},
   "outputs": [
    {
     "data": {
      "text/html": [
       "<div>\n",
       "<style scoped>\n",
       "    .dataframe tbody tr th:only-of-type {\n",
       "        vertical-align: middle;\n",
       "    }\n",
       "\n",
       "    .dataframe tbody tr th {\n",
       "        vertical-align: top;\n",
       "    }\n",
       "\n",
       "    .dataframe thead th {\n",
       "        text-align: right;\n",
       "    }\n",
       "</style>\n",
       "<table border=\"1\" class=\"dataframe\">\n",
       "  <thead>\n",
       "    <tr style=\"text-align: right;\">\n",
       "      <th></th>\n",
       "      <th>name</th>\n",
       "      <th>response</th>\n",
       "      <th>response code</th>\n",
       "      <th>entries</th>\n",
       "    </tr>\n",
       "  </thead>\n",
       "  <tbody>\n",
       "    <tr>\n",
       "      <th>0</th>\n",
       "      <td>Kim Komando Daily Tech Update</td>\n",
       "      <td>&lt;Response [200]&gt;</td>\n",
       "      <td>200</td>\n",
       "      <td>[[\\n, [Radiation — playing it safe with your s...</td>\n",
       "    </tr>\n",
       "    <tr>\n",
       "      <th>1</th>\n",
       "      <td>WSJ Tech News Briefing</td>\n",
       "      <td>&lt;Response [200]&gt;</td>\n",
       "      <td>200</td>\n",
       "      <td>[[\\n, [How Shein, TikTok and Temu Are Taking o...</td>\n",
       "    </tr>\n",
       "    <tr>\n",
       "      <th>2</th>\n",
       "      <td>Gadget Lab</td>\n",
       "      <td>&lt;Response [200]&gt;</td>\n",
       "      <td>200</td>\n",
       "      <td>[[\\n, [prx_5901_3ee9b772-36b4-4b4b-b51b-a8eb78...</td>\n",
       "    </tr>\n",
       "    <tr>\n",
       "      <th>3</th>\n",
       "      <td>TechONTAPPodcast</td>\n",
       "      <td>&lt;Response [200]&gt;</td>\n",
       "      <td>200</td>\n",
       "      <td>[[\\n, [tag:soundcloud,2010:tracks/1732505082],...</td>\n",
       "    </tr>\n",
       "    <tr>\n",
       "      <th>4</th>\n",
       "      <td>Linux Out Loud</td>\n",
       "      <td>&lt;Response [200]&gt;</td>\n",
       "      <td>200</td>\n",
       "      <td>[[\\n, [179: Linux Bubble | Linux Out Loud], \\n...</td>\n",
       "    </tr>\n",
       "    <tr>\n",
       "      <th>5</th>\n",
       "      <td>Late Night Linux Family All Episodes</td>\n",
       "      <td>&lt;Response [200]&gt;</td>\n",
       "      <td>200</td>\n",
       "      <td>[[\\n, [2.5 Admins 181: Triangle Fraud], \\n, [h...</td>\n",
       "    </tr>\n",
       "    <tr>\n",
       "      <th>6</th>\n",
       "      <td>Destination Linux</td>\n",
       "      <td>&lt;Response [200]&gt;</td>\n",
       "      <td>200</td>\n",
       "      <td>[[\\n, [357: Open Source AI with Delusions of D...</td>\n",
       "    </tr>\n",
       "    <tr>\n",
       "      <th>7</th>\n",
       "      <td>LINUX Unplugged</td>\n",
       "      <td>&lt;Response [200]&gt;</td>\n",
       "      <td>200</td>\n",
       "      <td>[[\\n, [548: Uncomfortable Linux Truths], \\n, [...</td>\n",
       "    </tr>\n",
       "    <tr>\n",
       "      <th>8</th>\n",
       "      <td>Enterprise Linux Security</td>\n",
       "      <td>&lt;Response [200]&gt;</td>\n",
       "      <td>200</td>\n",
       "      <td>[[\\n, [Enterprise Linux Security Episode 82 – ...</td>\n",
       "    </tr>\n",
       "    <tr>\n",
       "      <th>9</th>\n",
       "      <td>Linux Dev Time</td>\n",
       "      <td>&lt;Response [200]&gt;</td>\n",
       "      <td>200</td>\n",
       "      <td>[[\\n, [Linux Dev Time – Episode 90], \\n, [http...</td>\n",
       "    </tr>\n",
       "    <tr>\n",
       "      <th>10</th>\n",
       "      <td>Linux in the Ham Shack</td>\n",
       "      <td>&lt;Response [200]&gt;</td>\n",
       "      <td>200</td>\n",
       "      <td>[[\\n, [LHS Episode #531: Tailscale Deep Dive],...</td>\n",
       "    </tr>\n",
       "    <tr>\n",
       "      <th>11</th>\n",
       "      <td>This Week in Linux</td>\n",
       "      <td>&lt;Response [200]&gt;</td>\n",
       "      <td>200</td>\n",
       "      <td>[[\\n, [251: Budgie Desktop, Ubuntu 24.04 LTS, ...</td>\n",
       "    </tr>\n",
       "    <tr>\n",
       "      <th>12</th>\n",
       "      <td>Linux Lads</td>\n",
       "      <td>&lt;Response [200]&gt;</td>\n",
       "      <td>200</td>\n",
       "      <td>[[\\n, [Open Source], \\n, [Podcast], \\n, [Techn...</td>\n",
       "    </tr>\n",
       "    <tr>\n",
       "      <th>13</th>\n",
       "      <td>Untitled Linux Show (Audio)</td>\n",
       "      <td>&lt;Response [200]&gt;</td>\n",
       "      <td>200</td>\n",
       "      <td>[[\\n, [ULS 132: A Big Bucket of Binaries - Pre...</td>\n",
       "    </tr>\n",
       "    <tr>\n",
       "      <th>14</th>\n",
       "      <td>Syntax - Tasty Web Development Treats</td>\n",
       "      <td>&lt;Response [200]&gt;</td>\n",
       "      <td>200</td>\n",
       "      <td>[[\\n, [728: AI Superpowers with Kevin Hou and ...</td>\n",
       "    </tr>\n",
       "    <tr>\n",
       "      <th>15</th>\n",
       "      <td>JS Party: JavaScript, CSS, Web Development</td>\n",
       "      <td>&lt;Response [200]&gt;</td>\n",
       "      <td>200</td>\n",
       "      <td>[[\\n, [React Server Components 🧐], \\n, [https:...</td>\n",
       "    </tr>\n",
       "    <tr>\n",
       "      <th>18</th>\n",
       "      <td>Whiskey Web and Whatnot: HTML, CSS, and JavaSc...</td>\n",
       "      <td>&lt;Response [200]&gt;</td>\n",
       "      <td>200</td>\n",
       "      <td>[[\\n, [Upgrade Your Lifestyle: From the Ballme...</td>\n",
       "    </tr>\n",
       "    <tr>\n",
       "      <th>19</th>\n",
       "      <td>The Real Python Podcast</td>\n",
       "      <td>&lt;Response [200]&gt;</td>\n",
       "      <td>200</td>\n",
       "      <td>[[\\n, [full], \\n, [191], \\n, [Focusing on Data...</td>\n",
       "    </tr>\n",
       "    <tr>\n",
       "      <th>20</th>\n",
       "      <td>Python on Hardware</td>\n",
       "      <td>&lt;Response [200]&gt;</td>\n",
       "      <td>200</td>\n",
       "      <td>[[\\n, [Python on Hardware weekly video Jan 31,...</td>\n",
       "    </tr>\n",
       "    <tr>\n",
       "      <th>21</th>\n",
       "      <td>Python Bytes</td>\n",
       "      <td>&lt;Response [200]&gt;</td>\n",
       "      <td>200</td>\n",
       "      <td>[[\\n, [#370 Your Very Own Heroku], \\n, [\\n    ...</td>\n",
       "    </tr>\n",
       "    <tr>\n",
       "      <th>22</th>\n",
       "      <td>Sad Python Girls Club</td>\n",
       "      <td>&lt;Response [200]&gt;</td>\n",
       "      <td>200</td>\n",
       "      <td>[[\\n, [S2 Episode 1 - New Year, New Season! 🎉]...</td>\n",
       "    </tr>\n",
       "    <tr>\n",
       "      <th>23</th>\n",
       "      <td>Coder Radio</td>\n",
       "      <td>&lt;Response [302]&gt;</td>\n",
       "      <td>302</td>\n",
       "      <td>[]</td>\n",
       "    </tr>\n",
       "    <tr>\n",
       "      <th>24</th>\n",
       "      <td>Accidental Tech Podcast</td>\n",
       "      <td>&lt;Response [302]&gt;</td>\n",
       "      <td>302</td>\n",
       "      <td>[]</td>\n",
       "    </tr>\n",
       "    <tr>\n",
       "      <th>25</th>\n",
       "      <td>Tech News Weekly</td>\n",
       "      <td>&lt;Response [200]&gt;</td>\n",
       "      <td>200</td>\n",
       "      <td>[[\\n, [TNW 323: A Sober Review of Apple Vision...</td>\n",
       "    </tr>\n",
       "    <tr>\n",
       "      <th>27</th>\n",
       "      <td>Syntax</td>\n",
       "      <td>&lt;Response [200]&gt;</td>\n",
       "      <td>200</td>\n",
       "      <td>[[\\n, [728: AI Superpowers with Kevin Hou and ...</td>\n",
       "    </tr>\n",
       "  </tbody>\n",
       "</table>\n",
       "</div>"
      ],
      "text/plain": [
       "                                                 name          response  \\\n",
       "0                       Kim Komando Daily Tech Update  <Response [200]>   \n",
       "1                              WSJ Tech News Briefing  <Response [200]>   \n",
       "2                                          Gadget Lab  <Response [200]>   \n",
       "3                                    TechONTAPPodcast  <Response [200]>   \n",
       "4                                      Linux Out Loud  <Response [200]>   \n",
       "5                Late Night Linux Family All Episodes  <Response [200]>   \n",
       "6                                   Destination Linux  <Response [200]>   \n",
       "7                                     LINUX Unplugged  <Response [200]>   \n",
       "8                           Enterprise Linux Security  <Response [200]>   \n",
       "9                                      Linux Dev Time  <Response [200]>   \n",
       "10                             Linux in the Ham Shack  <Response [200]>   \n",
       "11                                 This Week in Linux  <Response [200]>   \n",
       "12                                         Linux Lads  <Response [200]>   \n",
       "13                        Untitled Linux Show (Audio)  <Response [200]>   \n",
       "14              Syntax - Tasty Web Development Treats  <Response [200]>   \n",
       "15         JS Party: JavaScript, CSS, Web Development  <Response [200]>   \n",
       "18  Whiskey Web and Whatnot: HTML, CSS, and JavaSc...  <Response [200]>   \n",
       "19                            The Real Python Podcast  <Response [200]>   \n",
       "20                                 Python on Hardware  <Response [200]>   \n",
       "21                                       Python Bytes  <Response [200]>   \n",
       "22                              Sad Python Girls Club  <Response [200]>   \n",
       "23                                        Coder Radio  <Response [302]>   \n",
       "24                            Accidental Tech Podcast  <Response [302]>   \n",
       "25                                   Tech News Weekly  <Response [200]>   \n",
       "27                                             Syntax  <Response [200]>   \n",
       "\n",
       "    response code                                            entries  \n",
       "0             200  [[\\n, [Radiation — playing it safe with your s...  \n",
       "1             200  [[\\n, [How Shein, TikTok and Temu Are Taking o...  \n",
       "2             200  [[\\n, [prx_5901_3ee9b772-36b4-4b4b-b51b-a8eb78...  \n",
       "3             200  [[\\n, [tag:soundcloud,2010:tracks/1732505082],...  \n",
       "4             200  [[\\n, [179: Linux Bubble | Linux Out Loud], \\n...  \n",
       "5             200  [[\\n, [2.5 Admins 181: Triangle Fraud], \\n, [h...  \n",
       "6             200  [[\\n, [357: Open Source AI with Delusions of D...  \n",
       "7             200  [[\\n, [548: Uncomfortable Linux Truths], \\n, [...  \n",
       "8             200  [[\\n, [Enterprise Linux Security Episode 82 – ...  \n",
       "9             200  [[\\n, [Linux Dev Time – Episode 90], \\n, [http...  \n",
       "10            200  [[\\n, [LHS Episode #531: Tailscale Deep Dive],...  \n",
       "11            200  [[\\n, [251: Budgie Desktop, Ubuntu 24.04 LTS, ...  \n",
       "12            200  [[\\n, [Open Source], \\n, [Podcast], \\n, [Techn...  \n",
       "13            200  [[\\n, [ULS 132: A Big Bucket of Binaries - Pre...  \n",
       "14            200  [[\\n, [728: AI Superpowers with Kevin Hou and ...  \n",
       "15            200  [[\\n, [React Server Components 🧐], \\n, [https:...  \n",
       "18            200  [[\\n, [Upgrade Your Lifestyle: From the Ballme...  \n",
       "19            200  [[\\n, [full], \\n, [191], \\n, [Focusing on Data...  \n",
       "20            200  [[\\n, [Python on Hardware weekly video Jan 31,...  \n",
       "21            200  [[\\n, [#370 Your Very Own Heroku], \\n, [\\n    ...  \n",
       "22            200  [[\\n, [S2 Episode 1 - New Year, New Season! 🎉]...  \n",
       "23            302                                                 []  \n",
       "24            302                                                 []  \n",
       "25            200  [[\\n, [TNW 323: A Sober Review of Apple Vision...  \n",
       "27            200  [[\\n, [728: AI Superpowers with Kevin Hou and ...  "
      ]
     },
     "execution_count": 129,
     "metadata": {},
     "output_type": "execute_result"
    }
   ],
   "source": [
    "rp[rp.name.isin(successfulEntries)]\n",
    "\n",
    "# for i in successfulEntries[0]:\n",
    "#   print( 'title: ', i.title.text )\n",
    "#   print( 'published date: ',  i.pubDate.text )\n",
    "#   print( 'description: ',  i.description.text )\n",
    "#   print( 'image: ', i.image['href'] if i.image else 'no image found')\n",
    "#   print( 'link: ', i.enclosure['url'] if i.enclosure else 'no link found', '\\n' )"
   ]
  },
  {
   "cell_type": "code",
   "execution_count": 166,
   "metadata": {},
   "outputs": [],
   "source": [
    "# sample = successfulEntries[0]"
   ]
  },
  {
   "cell_type": "code",
   "execution_count": null,
   "metadata": {},
   "outputs": [],
   "source": [
    "# podcast = requests.get(sample[0].enclosure['url'])"
   ]
  },
  {
   "cell_type": "code",
   "execution_count": 25,
   "metadata": {},
   "outputs": [],
   "source": []
  },
  {
   "cell_type": "code",
   "execution_count": null,
   "metadata": {},
   "outputs": [],
   "source": [
    "# try:\n",
    "#   with open(sample[1].title.text + '.mp3', 'xb' ) as f:\n",
    "#     f.write(podcast.content)\n",
    "# except(FileExistsError):\n",
    "#   print( 'file already exists' )"
   ]
  },
  {
   "cell_type": "code",
   "execution_count": null,
   "metadata": {},
   "outputs": [],
   "source": [
    "# This is to download all of the first set of entries which is thousands of files\n",
    "# for i in successfulEntries[0]:\n",
    "#   if i.enclosure:\n",
    "#     try:\n",
    "#       with open( './podcasts/'+ ''.join( [c for c in i.title.text if c.isalnum() or c == ' ' ] ) + '.mp3', 'xb' ) as f:\n",
    "#         f.write( requests.get(i.enclosure['url']).content )\n",
    "#     except( FileExistsError ):\n",
    "#       print( 'file already exists' )"
   ]
  },
  {
   "cell_type": "code",
   "execution_count": 163,
   "metadata": {},
   "outputs": [],
   "source": [
    "# # s = 'Is your spouse spying on you?'\n",
    "# s= 'AI is 2024\\'s \"show me the mon?ey\"'\n",
    "# print( s.replace(\"?\",'') )"
   ]
  },
  {
   "cell_type": "code",
   "execution_count": 167,
   "metadata": {},
   "outputs": [],
   "source": [
    "def downloadPod( url, name, dirname='' ):\n",
    "  \"\"\"This is a function to download the podcast by url. The name is the filename for the destination and the dirname is the folder\"\"\"\n",
    "  try:\n",
    "    with open( './'+ dirname + '/' + ''.join( [c for c in name if c.isalnum() or c == ' ' ] ) + '.mp3', 'xb' ) as f:\n",
    "      f.write( requests.get(url).content )\n",
    "  except( FileExistsError ):\n",
    "    print( 'file already exists' )\n",
    "    return False\n",
    "  return True"
   ]
  },
  {
   "cell_type": "code",
   "execution_count": 168,
   "metadata": {},
   "outputs": [
    {
     "ename": "NameError",
     "evalue": "name 'rp' is not defined",
     "output_type": "error",
     "traceback": [
      "\u001b[0;31m---------------------------------------------------------------------------\u001b[0m",
      "\u001b[0;31mNameError\u001b[0m                                 Traceback (most recent call last)",
      "Cell \u001b[0;32mIn[13], line 1\u001b[0m\n\u001b[0;32m----> 1\u001b[0m syntax \u001b[38;5;241m=\u001b[39m \u001b[43mrp\u001b[49m[ rp[\u001b[38;5;124m'\u001b[39m\u001b[38;5;124mname\u001b[39m\u001b[38;5;124m'\u001b[39m] \u001b[38;5;241m==\u001b[39m \u001b[38;5;124m'\u001b[39m\u001b[38;5;124mSyntax\u001b[39m\u001b[38;5;124m'\u001b[39m ][\u001b[38;5;124m'\u001b[39m\u001b[38;5;124mentries\u001b[39m\u001b[38;5;124m'\u001b[39m]\u001b[38;5;241m.\u001b[39mhead()\n\u001b[1;32m      3\u001b[0m \u001b[38;5;28;01mfor\u001b[39;00m i \u001b[38;5;129;01min\u001b[39;00m syntax:\n\u001b[1;32m      4\u001b[0m   \u001b[38;5;28;01mfor\u001b[39;00m j \u001b[38;5;129;01min\u001b[39;00m \u001b[38;5;28mrange\u001b[39m(\u001b[38;5;241m10\u001b[39m):\n",
      "\u001b[0;31mNameError\u001b[0m: name 'rp' is not defined"
     ]
    }
   ],
   "source": [
    "syntax = rp[ rp['name'] == 'Syntax' ]['entries'].head()\n",
    "\n",
    "for i in syntax:\n",
    "  for j in range(10):\n",
    "    print(i[j].enclosure['url'])\n",
    "    downloadPod( i[j].enclosure['url'], i[j].title.text, 'syntax' )"
   ]
  },
  {
   "cell_type": "code",
   "execution_count": null,
   "metadata": {},
   "outputs": [
    {
     "name": "stdout",
     "output_type": "stream",
     "text": [
      "https://chtbl.com/track/92DB94/files.realpython.com/podcasts/RPP_E190_03_Stefanie.fc1bc21410af.mp3\n",
      "file already exists\n",
      "https://chtbl.com/track/92DB94/files.realpython.com/podcasts/RPP_E189_03_C2.860151feeb60.mp3\n",
      "file already exists\n",
      "https://chtbl.com/track/92DB94/files.realpython.com/podcasts/RPP_E188_03_Jodie.bd4771f3f84e.mp3\n",
      "file already exists\n",
      "https://chtbl.com/track/92DB94/files.realpython.com/podcasts/RPP_E187_02.b1244807c970.mp3\n",
      "file already exists\n",
      "https://chtbl.com/track/92DB94/files.realpython.com/podcasts/RPP_E186_02_John_Sarah.1c8d95aadf59.mp3\n",
      "file already exists\n",
      "https://chtbl.com/track/92DB94/files.realpython.com/podcasts/RPP_E185_02_2.91aac904cbcb.mp3\n",
      "file already exists\n",
      "https://chtbl.com/track/92DB94/files.realpython.com/podcasts/RPP_E184_02_Cx2.01c66af0a50e.mp3\n",
      "file already exists\n",
      "https://chtbl.com/track/92DB94/files.realpython.com/podcasts/RPP_E183_03_Brendan_Nick.16e1b41cfbb8.mp3\n",
      "file already exists\n",
      "https://chtbl.com/track/92DB94/files.realpython.com/podcasts/RPP_E182_02_Cx2.e75022352095.mp3\n",
      "file already exists\n",
      "https://chtbl.com/track/92DB94/files.realpython.com/podcasts/RPP_E181_03_Lawrence.b5ae93279f16.mp3\n",
      "file already exists\n"
     ]
    }
   ],
   "source": [
    "for i in rp[ rp['name'] == 'The Real Python Podcast']['entries']:\n",
    "  for j in range(10):\n",
    "    print(i[j].enclosure['url'])\n",
    "    downloadPod( i[j].enclosure['url'], i[j].title.text, 'Real Python' )"
   ]
  }
 ],
 "metadata": {
  "kernelspec": {
   "display_name": "Python 3",
   "language": "python",
   "name": "python3"
  },
  "language_info": {
   "codemirror_mode": {
    "name": "ipython",
    "version": 3
   },
   "file_extension": ".py",
   "mimetype": "text/x-python",
   "name": "python",
   "nbconvert_exporter": "python",
   "pygments_lexer": "ipython3",
   "version": "3.12.1"
  }
 },
 "nbformat": 4,
 "nbformat_minor": 2
}
