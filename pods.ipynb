{
 "cells": [
  {
   "cell_type": "code",
   "execution_count": 2,
   "metadata": {},
   "outputs": [],
   "source": [
    "import pandas as pd\n",
    "from bs4 import BeautifulSoup\n",
    "import requests"
   ]
  },
  {
   "cell_type": "code",
   "execution_count": 117,
   "metadata": {},
   "outputs": [],
   "source": [
    "pods = pd.read_csv('podcasts.csv', index_col='name')"
   ]
  },
  {
   "cell_type": "code",
   "execution_count": 161,
   "metadata": {},
   "outputs": [
    {
     "data": {
      "text/html": [
       "<div>\n",
       "<style scoped>\n",
       "    .dataframe tbody tr th:only-of-type {\n",
       "        vertical-align: middle;\n",
       "    }\n",
       "\n",
       "    .dataframe tbody tr th {\n",
       "        vertical-align: top;\n",
       "    }\n",
       "\n",
       "    .dataframe thead th {\n",
       "        text-align: right;\n",
       "    }\n",
       "</style>\n",
       "<table border=\"1\" class=\"dataframe\">\n",
       "  <thead>\n",
       "    <tr style=\"text-align: right;\">\n",
       "      <th></th>\n",
       "      <th>link</th>\n",
       "    </tr>\n",
       "    <tr>\n",
       "      <th>name</th>\n",
       "      <th></th>\n",
       "    </tr>\n",
       "  </thead>\n",
       "  <tbody>\n",
       "    <tr>\n",
       "      <th>Kim Komando Daily Tech Update</th>\n",
       "      <td>https://feeds.libsyn.com/115469/rss</td>\n",
       "    </tr>\n",
       "    <tr>\n",
       "      <th>WSJ Tech News Briefing</th>\n",
       "      <td>https://video-api.wsj.com/podcast/rss/wsj/tec...</td>\n",
       "    </tr>\n",
       "    <tr>\n",
       "      <th>Gadget Lab</th>\n",
       "      <td>https://publicfeeds.net/f/5901/gadget-lab</td>\n",
       "    </tr>\n",
       "    <tr>\n",
       "      <th>TechONTAPPodcast</th>\n",
       "      <td>https://feeds.soundcloud.com/users/soundcloud...</td>\n",
       "    </tr>\n",
       "    <tr>\n",
       "      <th>Linux Out Loud</th>\n",
       "      <td>https://feeds.fireside.fm/dlnxtend/rss</td>\n",
       "    </tr>\n",
       "  </tbody>\n",
       "</table>\n",
       "</div>"
      ],
      "text/plain": [
       "                                                                            link\n",
       "name                                                                            \n",
       "Kim Komando Daily Tech Update                https://feeds.libsyn.com/115469/rss\n",
       "WSJ Tech News Briefing          https://video-api.wsj.com/podcast/rss/wsj/tec...\n",
       "Gadget Lab                             https://publicfeeds.net/f/5901/gadget-lab\n",
       "TechONTAPPodcast                https://feeds.soundcloud.com/users/soundcloud...\n",
       "Linux Out Loud                            https://feeds.fireside.fm/dlnxtend/rss"
      ]
     },
     "execution_count": 161,
     "metadata": {},
     "output_type": "execute_result"
    }
   ],
   "source": [
    "pods.head()"
   ]
  },
  {
   "cell_type": "code",
   "execution_count": 119,
   "metadata": {},
   "outputs": [
    {
     "name": "stdout",
     "output_type": "stream",
     "text": [
      " https://feeds.libsyn.com/115469/rss\n",
      " https://video-api.wsj.com/podcast/rss/wsj/tech-news-briefing\n",
      " https://publicfeeds.net/f/5901/gadget-lab\n",
      " https://feeds.soundcloud.com/users/soundcloud:users:164421460/sounds.rss\n",
      " https://feeds.fireside.fm/dlnxtend/rss\n",
      " https://latenightlinux.com/feed/all\n",
      " https://destinationlinux.org/feed/mp3/\n",
      " https://feeds.fireside.fm/linuxunplugged/rss\n",
      " https://enterpriselinuxsecurity.show/feed/podcast/\n",
      " https://latenightlinux.com/feed/extra\n",
      " https://lhspodcast.info/category/podcast-mp3/feed/\n",
      " https://tuxdigital.com/feed/thisweekinlinux-mp3\n",
      " https://linuxlads.com/feed_mp3.rss\n",
      " https://feeds.twit.tv/uls.xml\n",
      " https://feed.syntax.fm/rss\n",
      " https://changelog.com/jsparty/feed\n",
      " https://feeds.feedwrench.com/js-jabber.rss\n",
      " https://softwareengineeringdaily.com/category/javascript/feed/\n",
      " https://anchor.fm/s/e329dea0/podcast/rss\n",
      " https://realpython.com/podcasts/rpp/feed\n",
      " http://adafruit-podcasts.s3.amazonaws.com/python_on_hardware/podcast.xml\n",
      " https://pythonbytes.fm/episodes/rss\n",
      " https://anchor.fm/s/8f23717c/podcast/rss\n",
      " https://coder.show/rss\n",
      " https://atp.fm/episodes?format=rss\n",
      " https://feeds.twit.tv/tnw.xml\n",
      " https://feeds.feedburner.com/iTunesPodcastTTTechnolog\n",
      " https://feed.syntax.fm/rss\n"
     ]
    }
   ],
   "source": [
    "for i, url in pods.itertuples():\n",
    "  print(url)"
   ]
  },
  {
   "cell_type": "code",
   "execution_count": 6,
   "metadata": {},
   "outputs": [],
   "source": [
    "# pods.to_csv('pods.csv',index=True, index_label='name')"
   ]
  },
  {
   "cell_type": "code",
   "execution_count": 120,
   "metadata": {},
   "outputs": [],
   "source": [
    "rssFeedEntries = []\n",
    "\n",
    "for i, url in pods.itertuples():\n",
    "  req = requests.get( url, allow_redirects=False )\n",
    "  reqCode = req.status_code\n",
    "  soup = BeautifulSoup(req.content, 'xml')\n",
    "  entries = soup.findAll('item')\n",
    "  rssFeedEntries.append([i,req, reqCode, entries ])\n",
    "  req.close()\n",
    "  soup.clear()\n",
    "  "
   ]
  },
  {
   "cell_type": "code",
   "execution_count": 121,
   "metadata": {},
   "outputs": [
    {
     "name": "stdout",
     "output_type": "stream",
     "text": [
      "Kim Komando Daily Tech Update                                               <Response [200]>   200     2854\n",
      "WSJ Tech News Briefing                                                      <Response [200]>   200       20\n",
      "Gadget Lab                                                                  <Response [200]>   200      255\n",
      "TechONTAPPodcast                                                            <Response [200]>   200      405\n",
      "Linux Out Loud                                                              <Response [200]>   200      180\n",
      "Late Night Linux Family All Episodes                                        <Response [200]>   200      439\n",
      "Destination Linux                                                           <Response [200]>   200      300\n",
      "LINUX Unplugged                                                             <Response [200]>   200      547\n",
      "Enterprise Linux Security                                                   <Response [200]>   200       78\n",
      "Linux Dev Time                                                              <Response [200]>   200       90\n",
      "Linux in the Ham Shack                                                      <Response [200]>   200      532\n",
      "This Week in Linux                                                          <Response [200]>   200      250\n",
      "Linux Lads                                                                  <Response [200]>   200      117\n",
      "Untitled Linux Show (Audio)                                                 <Response [200]>   200       16\n",
      "Syntax - Tasty Web Development Treats                                       <Response [200]>   200      727\n",
      "JS Party: JavaScript, CSS, Web Development                                  <Response [200]>   200      321\n",
      "JavaScript Jabber                                                           <Response [301]>   301        0\n",
      "JavaScript Archives - Software Engineering Daily                            <Response [403]>   403        0\n",
      "Whiskey Web and Whatnot: HTML, CSS, and JavaScript Distilled                <Response [200]>   200      130\n",
      "The Real Python Podcast                                                     <Response [200]>   200      191\n",
      "Python on Hardware                                                          <Response [200]>   200      261\n",
      "Python Bytes                                                                <Response [200]>   200      369\n",
      "Sad Python Girls Club                                                       <Response [200]>   200       20\n",
      "Coder Radio                                                                 <Response [302]>   302        0\n",
      "Accidental Tech Podcast                                                     <Response [302]>   302        0\n",
      "Tech News Weekly                                                            <Response [200]>   200       10\n",
      "TED Tech                                                                    <Response [404]>   404        0\n",
      "Syntax                                                                      <Response [200]>   200      727\n"
     ]
    }
   ],
   "source": [
    "for i, r, rc, feed in rssFeedEntries:\n",
    "  print( f'{i:75} {r} {rc:5} {len(feed):8}' )"
   ]
  },
  {
   "cell_type": "code",
   "execution_count": 122,
   "metadata": {},
   "outputs": [],
   "source": [
    "rp = pd.DataFrame(rssFeedEntries, columns=['name','response', 'response code','entries'])"
   ]
  },
  {
   "cell_type": "code",
   "execution_count": 123,
   "metadata": {},
   "outputs": [
    {
     "data": {
      "text/plain": [
       "bs4.element.ResultSet"
      ]
     },
     "execution_count": 123,
     "metadata": {},
     "output_type": "execute_result"
    }
   ],
   "source": [
    "type(rp['entries'][0])"
   ]
  },
  {
   "cell_type": "code",
   "execution_count": 124,
   "metadata": {},
   "outputs": [
    {
     "data": {
      "text/plain": [
       "requests.models.Response"
      ]
     },
     "execution_count": 124,
     "metadata": {},
     "output_type": "execute_result"
    }
   ],
   "source": [
    "type(rp['response'][0])"
   ]
  },
  {
   "cell_type": "code",
   "execution_count": 125,
   "metadata": {},
   "outputs": [
    {
     "data": {
      "text/plain": [
       "200"
      ]
     },
     "execution_count": 125,
     "metadata": {},
     "output_type": "execute_result"
    }
   ],
   "source": [
    "requests.codes['OK']"
   ]
  },
  {
   "cell_type": "code",
   "execution_count": 126,
   "metadata": {},
   "outputs": [
    {
     "data": {
      "text/plain": [
       "'OK'"
      ]
     },
     "execution_count": 126,
     "metadata": {},
     "output_type": "execute_result"
    }
   ],
   "source": [
    "rp.response[0].reason"
   ]
  },
  {
   "cell_type": "code",
   "execution_count": 127,
   "metadata": {},
   "outputs": [
    {
     "name": "stdout",
     "output_type": "stream",
     "text": [
      "OK\n",
      "OK\n",
      "OK\n",
      "OK\n",
      "OK\n",
      "OK\n",
      "OK\n",
      "OK\n",
      "OK\n",
      "OK\n",
      "OK\n",
      "OK\n",
      "OK\n",
      "OK\n",
      "OK\n",
      "OK\n",
      "Moved Permanently\n",
      "Forbidden\n",
      "OK\n",
      "OK\n",
      "OK\n",
      "OK\n",
      "OK\n",
      "Found\n",
      "Found\n",
      "OK\n",
      "Not Found\n",
      "OK\n"
     ]
    }
   ],
   "source": [
    "for r in rp.response:\n",
    "  print (r.reason)"
   ]
  },
  {
   "cell_type": "code",
   "execution_count": 15,
   "metadata": {},
   "outputs": [],
   "source": [
    "successfulEntries = rp[rp['response code'] == 200]['entries']"
   ]
  },
  {
   "cell_type": "code",
   "execution_count": 162,
   "metadata": {},
   "outputs": [],
   "source": [
    "# print(successfulEntries[0])\n",
    "\n",
    "# for i in successfulEntries[0]:\n",
    "#   print( 'title: ', i.title.text )\n",
    "#   print( 'published date: ',  i.pubDate.text )\n",
    "#   print( 'description: ',  i.description.text )\n",
    "#   print( 'image: ', i.image['href'] if i.image else 'no image found')\n",
    "#   print( 'link: ', i.enclosure['url'] if i.enclosure else 'no link found', '\\n' )"
   ]
  },
  {
   "cell_type": "code",
   "execution_count": 166,
   "metadata": {},
   "outputs": [],
   "source": [
    "# sample = successfulEntries[0]"
   ]
  },
  {
   "cell_type": "code",
   "execution_count": 165,
   "metadata": {},
   "outputs": [],
   "source": [
    "# podcast = requests.get(sample[0].enclosure['url'])"
   ]
  },
  {
   "cell_type": "code",
   "execution_count": 25,
   "metadata": {},
   "outputs": [],
   "source": [
    "# try:\n",
    "#   with open(sample[1].title.text + '.mp3', 'xb' ) as f:\n",
    "#     f.write(podcast.content)\n",
    "# except(FileExistsError):\n",
    "#   print( 'file already exists' )"
   ]
  },
  {
   "cell_type": "code",
   "execution_count": 157,
   "metadata": {},
   "outputs": [],
   "source": [
    "# This is to download all of the first set of entries which is thousands of files\n",
    "# for i in successfulEntries[0]:\n",
    "#   if i.enclosure:\n",
    "#     try:\n",
    "#       with open( './podcasts/'+ ''.join( [c for c in i.title.text if c.isalnum() or c == ' ' ] ) + '.mp3', 'xb' ) as f:\n",
    "#         f.write( requests.get(i.enclosure['url']).content )\n",
    "#     except( FileExistsError ):\n",
    "#       print( 'file already exists' )"
   ]
  },
  {
   "cell_type": "code",
   "execution_count": 163,
   "metadata": {},
   "outputs": [],
   "source": [
    "# # s = 'Is your spouse spying on you?'\n",
    "# s= 'AI is 2024\\'s \"show me the mon?ey\"'\n",
    "# print( s.replace(\"?\",'') )"
   ]
  },
  {
   "cell_type": "code",
   "execution_count": 167,
   "metadata": {},
   "outputs": [],
   "source": [
    "def downloadPod( url, name, dirname='' ):\n",
    "  \"\"\"This is a function to download the podcast by url. The name is the filename for the destination and the dirname is the folder\"\"\"\n",
    "  try:\n",
    "    with open( './'+ dirname + '/' + ''.join( [c for c in name if c.isalnum() or c == ' ' ] ) + '.mp3', 'xb' ) as f:\n",
    "      f.write( requests.get(url).content )\n",
    "  except( FileExistsError ):\n",
    "    print( 'file already exists' )\n",
    "    return False\n",
    "  return True"
   ]
  },
  {
   "cell_type": "code",
   "execution_count": 168,
   "metadata": {},
   "outputs": [
    {
     "name": "stdout",
     "output_type": "stream",
     "text": [
      "https://traffic.libsyn.com/secure/syntax/Safari_is_the_new_Chrome_725.mp3?dest-id=532671\n",
      "file already exists\n",
      "https://traffic.libsyn.com/secure/syntax/Potluck_Is_Virtual_Dom_Bad.mp3?dest-id=532671\n",
      "file already exists\n",
      "https://traffic.libsyn.com/secure/syntax/723_-_Svelte_5_Speed_Simplicity__Size.mp3?dest-id=532671\n",
      "file already exists\n",
      "https://traffic.libsyn.com/secure/syntax/Syntax_-_722.mp3?dest-id=532671\n",
      "file already exists\n",
      "https://traffic.libsyn.com/secure/syntax/Syntax_-_721.mp3?dest-id=532671\n",
      "file already exists\n",
      "https://traffic.libsyn.com/secure/syntax/Syntax_-_720.mp3?dest-id=532671\n",
      "file already exists\n",
      "https://traffic.libsyn.com/secure/syntax/Syntax_-_719fx.mp3?dest-id=532671\n",
      "file already exists\n",
      "https://traffic.libsyn.com/secure/syntax/Syntax_-_718.mp3?dest-id=532671\n",
      "file already exists\n",
      "https://traffic.libsyn.com/secure/syntax/Syntax_-_717.mp3?dest-id=532671\n",
      "file already exists\n",
      "https://traffic.libsyn.com/secure/syntax/Syntax_-_716.mp3?dest-id=532671\n",
      "file already exists\n"
     ]
    }
   ],
   "source": [
    "syntax = rp[ rp['name'] == 'Syntax' ]['entries']\n",
    "\n",
    "for i in syntax:\n",
    "  for j in range(10):\n",
    "    print(i[j].enclosure['url'])\n",
    "    downloadPod( i[j].enclosure['url'], i[j].title.text, 'syntax' )"
   ]
  },
  {
   "cell_type": "code",
   "execution_count": 169,
   "metadata": {},
   "outputs": [
    {
     "name": "stdout",
     "output_type": "stream",
     "text": [
      "https://chtbl.com/track/92DB94/files.realpython.com/podcasts/RPP_E190_03_Stefanie.fc1bc21410af.mp3\n",
      "file already exists\n",
      "https://chtbl.com/track/92DB94/files.realpython.com/podcasts/RPP_E189_03_C2.860151feeb60.mp3\n",
      "file already exists\n",
      "https://chtbl.com/track/92DB94/files.realpython.com/podcasts/RPP_E188_03_Jodie.bd4771f3f84e.mp3\n",
      "file already exists\n",
      "https://chtbl.com/track/92DB94/files.realpython.com/podcasts/RPP_E187_02.b1244807c970.mp3\n",
      "file already exists\n",
      "https://chtbl.com/track/92DB94/files.realpython.com/podcasts/RPP_E186_02_John_Sarah.1c8d95aadf59.mp3\n",
      "file already exists\n",
      "https://chtbl.com/track/92DB94/files.realpython.com/podcasts/RPP_E185_02_2.91aac904cbcb.mp3\n",
      "file already exists\n",
      "https://chtbl.com/track/92DB94/files.realpython.com/podcasts/RPP_E184_02_Cx2.01c66af0a50e.mp3\n",
      "file already exists\n",
      "https://chtbl.com/track/92DB94/files.realpython.com/podcasts/RPP_E183_03_Brendan_Nick.16e1b41cfbb8.mp3\n",
      "file already exists\n",
      "https://chtbl.com/track/92DB94/files.realpython.com/podcasts/RPP_E182_02_Cx2.e75022352095.mp3\n",
      "file already exists\n",
      "https://chtbl.com/track/92DB94/files.realpython.com/podcasts/RPP_E181_03_Lawrence.b5ae93279f16.mp3\n",
      "file already exists\n"
     ]
    }
   ],
   "source": [
    "for i in rp[ rp['name'] == 'The Real Python Podcast']['entries']:\n",
    "  for j in range(10):\n",
    "    print(i[j].enclosure['url'])\n",
    "    downloadPod( i[j].enclosure['url'], i[j].title.text, 'Real Python' )"
   ]
  }
 ],
 "metadata": {
  "kernelspec": {
   "display_name": "Python 3",
   "language": "python",
   "name": "python3"
  },
  "language_info": {
   "codemirror_mode": {
    "name": "ipython",
    "version": 3
   },
   "file_extension": ".py",
   "mimetype": "text/x-python",
   "name": "python",
   "nbconvert_exporter": "python",
   "pygments_lexer": "ipython3",
   "version": "3.10.11"
  }
 },
 "nbformat": 4,
 "nbformat_minor": 2
}
