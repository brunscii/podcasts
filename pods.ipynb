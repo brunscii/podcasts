{
 "cells": [
  {
   "cell_type": "code",
   "execution_count": 206,
   "metadata": {},
   "outputs": [],
   "source": [
    "import pandas as pd\n",
    "from bs4 import BeautifulSoup\n",
    "import requests"
   ]
  },
  {
   "cell_type": "code",
   "execution_count": 3,
   "metadata": {},
   "outputs": [],
   "source": [
    "pods = pd.read_csv('podcasts.csv', index_col='name')"
   ]
  },
  {
   "cell_type": "code",
   "execution_count": 32,
   "metadata": {},
   "outputs": [
    {
     "data": {
      "text/html": [
       "<div>\n",
       "<style scoped>\n",
       "    .dataframe tbody tr th:only-of-type {\n",
       "        vertical-align: middle;\n",
       "    }\n",
       "\n",
       "    .dataframe tbody tr th {\n",
       "        vertical-align: top;\n",
       "    }\n",
       "\n",
       "    .dataframe thead th {\n",
       "        text-align: right;\n",
       "    }\n",
       "</style>\n",
       "<table border=\"1\" class=\"dataframe\">\n",
       "  <thead>\n",
       "    <tr style=\"text-align: right;\">\n",
       "      <th></th>\n",
       "      <th>link</th>\n",
       "    </tr>\n",
       "    <tr>\n",
       "      <th>name</th>\n",
       "      <th></th>\n",
       "    </tr>\n",
       "  </thead>\n",
       "  <tbody>\n",
       "    <tr>\n",
       "      <th>Kim Komando Daily Tech Update</th>\n",
       "      <td>https://feeds.libsyn.com/115469/rss</td>\n",
       "    </tr>\n",
       "    <tr>\n",
       "      <th>WSJ Tech News Briefing</th>\n",
       "      <td>https://video-api.wsj.com/podcast/rss/wsj/tec...</td>\n",
       "    </tr>\n",
       "    <tr>\n",
       "      <th>Gadget Lab</th>\n",
       "      <td>https://publicfeeds.net/f/5901/gadget-lab</td>\n",
       "    </tr>\n",
       "    <tr>\n",
       "      <th>TechONTAPPodcast</th>\n",
       "      <td>https://feeds.soundcloud.com/users/soundcloud...</td>\n",
       "    </tr>\n",
       "    <tr>\n",
       "      <th>Linux Out Loud</th>\n",
       "      <td>https://feeds.fireside.fm/dlnxtend/rss</td>\n",
       "    </tr>\n",
       "    <tr>\n",
       "      <th>Late Night Linux Family All Episodes</th>\n",
       "      <td>https://latenightlinux.com/feed/all</td>\n",
       "    </tr>\n",
       "    <tr>\n",
       "      <th>Destination Linux</th>\n",
       "      <td>https://destinationlinux.org/feed/mp3/</td>\n",
       "    </tr>\n",
       "    <tr>\n",
       "      <th>LINUX Unplugged</th>\n",
       "      <td>https://feeds.fireside.fm/linuxunplugged/rss</td>\n",
       "    </tr>\n",
       "    <tr>\n",
       "      <th>Enterprise Linux Security</th>\n",
       "      <td>https://enterpriselinuxsecurity.show/feed/pod...</td>\n",
       "    </tr>\n",
       "    <tr>\n",
       "      <th>Linux Dev Time</th>\n",
       "      <td>https://latenightlinux.com/feed/extra</td>\n",
       "    </tr>\n",
       "    <tr>\n",
       "      <th>Linux in the Ham Shack</th>\n",
       "      <td>https://lhspodcast.info/category/podcast-mp3/...</td>\n",
       "    </tr>\n",
       "    <tr>\n",
       "      <th>This Week in Linux</th>\n",
       "      <td>https://tuxdigital.com/feed/thisweekinlinux-mp3</td>\n",
       "    </tr>\n",
       "    <tr>\n",
       "      <th>Linux Lads</th>\n",
       "      <td>https://linuxlads.com/feed_mp3.rss</td>\n",
       "    </tr>\n",
       "    <tr>\n",
       "      <th>Untitled Linux Show (Audio)</th>\n",
       "      <td>https://feeds.twit.tv/uls.xml</td>\n",
       "    </tr>\n",
       "    <tr>\n",
       "      <th>Syntax - Tasty Web Development Treats</th>\n",
       "      <td>https://feed.syntax.fm/rss</td>\n",
       "    </tr>\n",
       "    <tr>\n",
       "      <th>JS Party: JavaScript, CSS, Web Development</th>\n",
       "      <td>https://changelog.com/jsparty/feed</td>\n",
       "    </tr>\n",
       "    <tr>\n",
       "      <th>JavaScript Jabber</th>\n",
       "      <td>https://feeds.feedwrench.com/js-jabber.rss</td>\n",
       "    </tr>\n",
       "    <tr>\n",
       "      <th>JavaScript Archives - Software Engineering Daily</th>\n",
       "      <td>https://softwareengineeringdaily.com/category...</td>\n",
       "    </tr>\n",
       "    <tr>\n",
       "      <th>Whiskey Web and Whatnot: HTML, CSS, and JavaScript Distilled</th>\n",
       "      <td>https://anchor.fm/s/e329dea0/podcast/rss</td>\n",
       "    </tr>\n",
       "    <tr>\n",
       "      <th>The Real Python Podcast</th>\n",
       "      <td>https://realpython.com/podcasts/rpp/feed</td>\n",
       "    </tr>\n",
       "    <tr>\n",
       "      <th>Python on Hardware</th>\n",
       "      <td>http://adafruit-podcasts.s3.amazonaws.com/pyt...</td>\n",
       "    </tr>\n",
       "    <tr>\n",
       "      <th>Python Bytes</th>\n",
       "      <td>https://pythonbytes.fm/episodes/rss</td>\n",
       "    </tr>\n",
       "    <tr>\n",
       "      <th>Sad Python Girls Club</th>\n",
       "      <td>https://anchor.fm/s/8f23717c/podcast/rss</td>\n",
       "    </tr>\n",
       "    <tr>\n",
       "      <th>Coder Radio</th>\n",
       "      <td>https://coder.show/rss</td>\n",
       "    </tr>\n",
       "    <tr>\n",
       "      <th>Accidental Tech Podcast</th>\n",
       "      <td>https://atp.fm/episodes?format=rss</td>\n",
       "    </tr>\n",
       "    <tr>\n",
       "      <th>Tech News Weekly</th>\n",
       "      <td>https://feeds.twit.tv/tnw.xml</td>\n",
       "    </tr>\n",
       "    <tr>\n",
       "      <th>TED Tech</th>\n",
       "      <td>https://feeds.feedburner.com/iTunesPodcastTTT...</td>\n",
       "    </tr>\n",
       "  </tbody>\n",
       "</table>\n",
       "</div>"
      ],
      "text/plain": [
       "                                                                                                 link\n",
       "name                                                                                                 \n",
       "Kim Komando Daily Tech Update                                     https://feeds.libsyn.com/115469/rss\n",
       "WSJ Tech News Briefing                               https://video-api.wsj.com/podcast/rss/wsj/tec...\n",
       "Gadget Lab                                                  https://publicfeeds.net/f/5901/gadget-lab\n",
       "TechONTAPPodcast                                     https://feeds.soundcloud.com/users/soundcloud...\n",
       "Linux Out Loud                                                 https://feeds.fireside.fm/dlnxtend/rss\n",
       "Late Night Linux Family All Episodes                              https://latenightlinux.com/feed/all\n",
       "Destination Linux                                              https://destinationlinux.org/feed/mp3/\n",
       "LINUX Unplugged                                          https://feeds.fireside.fm/linuxunplugged/rss\n",
       "Enterprise Linux Security                            https://enterpriselinuxsecurity.show/feed/pod...\n",
       "Linux Dev Time                                                  https://latenightlinux.com/feed/extra\n",
       "Linux in the Ham Shack                               https://lhspodcast.info/category/podcast-mp3/...\n",
       "This Week in Linux                                    https://tuxdigital.com/feed/thisweekinlinux-mp3\n",
       "Linux Lads                                                         https://linuxlads.com/feed_mp3.rss\n",
       "Untitled Linux Show (Audio)                                             https://feeds.twit.tv/uls.xml\n",
       "Syntax - Tasty Web Development Treats                                      https://feed.syntax.fm/rss\n",
       "JS Party: JavaScript, CSS, Web Development                         https://changelog.com/jsparty/feed\n",
       "JavaScript Jabber                                          https://feeds.feedwrench.com/js-jabber.rss\n",
       "JavaScript Archives - Software Engineering Daily     https://softwareengineeringdaily.com/category...\n",
       "Whiskey Web and Whatnot: HTML, CSS, and JavaScr...           https://anchor.fm/s/e329dea0/podcast/rss\n",
       "The Real Python Podcast                                      https://realpython.com/podcasts/rpp/feed\n",
       "Python on Hardware                                   http://adafruit-podcasts.s3.amazonaws.com/pyt...\n",
       "Python Bytes                                                      https://pythonbytes.fm/episodes/rss\n",
       "Sad Python Girls Club                                        https://anchor.fm/s/8f23717c/podcast/rss\n",
       "Coder Radio                                                                    https://coder.show/rss\n",
       "Accidental Tech Podcast                                            https://atp.fm/episodes?format=rss\n",
       "Tech News Weekly                                                        https://feeds.twit.tv/tnw.xml\n",
       "TED Tech                                             https://feeds.feedburner.com/iTunesPodcastTTT..."
      ]
     },
     "execution_count": 32,
     "metadata": {},
     "output_type": "execute_result"
    }
   ],
   "source": [
    "pods"
   ]
  },
  {
   "cell_type": "code",
   "execution_count": 52,
   "metadata": {},
   "outputs": [
    {
     "name": "stdout",
     "output_type": "stream",
     "text": [
      " https://feeds.libsyn.com/115469/rss\n",
      " https://video-api.wsj.com/podcast/rss/wsj/tech-news-briefing\n",
      " https://publicfeeds.net/f/5901/gadget-lab\n",
      " https://feeds.soundcloud.com/users/soundcloud:users:164421460/sounds.rss\n",
      " https://feeds.fireside.fm/dlnxtend/rss\n",
      " https://latenightlinux.com/feed/all\n",
      " https://destinationlinux.org/feed/mp3/\n",
      " https://feeds.fireside.fm/linuxunplugged/rss\n",
      " https://enterpriselinuxsecurity.show/feed/podcast/\n",
      " https://latenightlinux.com/feed/extra\n",
      " https://lhspodcast.info/category/podcast-mp3/feed/\n",
      " https://tuxdigital.com/feed/thisweekinlinux-mp3\n",
      " https://linuxlads.com/feed_mp3.rss\n",
      " https://feeds.twit.tv/uls.xml\n",
      " https://feed.syntax.fm/rss\n",
      " https://changelog.com/jsparty/feed\n",
      " https://feeds.feedwrench.com/js-jabber.rss\n",
      " https://softwareengineeringdaily.com/category/javascript/feed/\n",
      " https://anchor.fm/s/e329dea0/podcast/rss\n",
      " https://realpython.com/podcasts/rpp/feed\n",
      " http://adafruit-podcasts.s3.amazonaws.com/python_on_hardware/podcast.xml\n",
      " https://pythonbytes.fm/episodes/rss\n",
      " https://anchor.fm/s/8f23717c/podcast/rss\n",
      " https://coder.show/rss\n",
      " https://atp.fm/episodes?format=rss\n",
      " https://feeds.twit.tv/tnw.xml\n",
      " https://feeds.feedburner.com/iTunesPodcastTTTechnolog\n"
     ]
    }
   ],
   "source": [
    "for i, url in pods.itertuples():\n",
    "  print(url)"
   ]
  },
  {
   "cell_type": "code",
   "execution_count": 33,
   "metadata": {},
   "outputs": [],
   "source": [
    "# pods.to_csv('pods.csv',index=True, index_label='name')"
   ]
  },
  {
   "cell_type": "code",
   "execution_count": 267,
   "metadata": {},
   "outputs": [],
   "source": [
    "rssFeedEntries = []\n",
    "\n",
    "for i, url in pods.itertuples():\n",
    "  req = requests.get( url, allow_redirects=False )\n",
    "  reqCode = req.status_code\n",
    "  soup = BeautifulSoup(req.content, 'xml')\n",
    "  entries = soup.findAll('item')\n",
    "  rssFeedEntries.append([req, reqCode, entries ])\n",
    "  req.close()\n",
    "  soup.clear()\n",
    "  "
   ]
  },
  {
   "cell_type": "code",
   "execution_count": 268,
   "metadata": {},
   "outputs": [
    {
     "name": "stdout",
     "output_type": "stream",
     "text": [
      "<Response [200]> 200 2854\n",
      "<Response [200]> 200 20\n",
      "<Response [200]> 200 255\n",
      "<Response [200]> 200 405\n",
      "<Response [200]> 200 180\n",
      "<Response [200]> 200 439\n",
      "<Response [200]> 200 300\n",
      "<Response [200]> 200 547\n",
      "<Response [200]> 200 78\n",
      "<Response [200]> 200 90\n",
      "<Response [200]> 200 532\n",
      "<Response [200]> 200 250\n",
      "<Response [200]> 200 117\n",
      "<Response [200]> 200 16\n",
      "<Response [200]> 200 727\n",
      "<Response [200]> 200 321\n",
      "<Response [301]> 301 0\n",
      "<Response [403]> 403 0\n",
      "<Response [200]> 200 130\n",
      "<Response [200]> 200 191\n",
      "<Response [200]> 200 261\n",
      "<Response [200]> 200 369\n",
      "<Response [200]> 200 20\n",
      "<Response [302]> 302 0\n",
      "<Response [302]> 302 0\n",
      "<Response [200]> 200 10\n",
      "<Response [404]> 404 0\n"
     ]
    }
   ],
   "source": [
    "for r, rc, feed in rssFeedEntries:\n",
    "  print(r, rc, len(feed) )"
   ]
  },
  {
   "cell_type": "code",
   "execution_count": 269,
   "metadata": {},
   "outputs": [],
   "source": [
    "rp = pd.DataFrame(rssFeedEntries, columns=['response', 'response code','entries'])"
   ]
  },
  {
   "cell_type": "code",
   "execution_count": 173,
   "metadata": {},
   "outputs": [
    {
     "data": {
      "text/plain": [
       "bs4.element.ResultSet"
      ]
     },
     "execution_count": 173,
     "metadata": {},
     "output_type": "execute_result"
    }
   ],
   "source": [
    "type(rp['entries'][0])"
   ]
  },
  {
   "cell_type": "code",
   "execution_count": 174,
   "metadata": {},
   "outputs": [
    {
     "data": {
      "text/plain": [
       "requests.models.Response"
      ]
     },
     "execution_count": 174,
     "metadata": {},
     "output_type": "execute_result"
    }
   ],
   "source": [
    "type(rp['response'][0])"
   ]
  },
  {
   "cell_type": "code",
   "execution_count": 175,
   "metadata": {},
   "outputs": [
    {
     "data": {
      "text/plain": [
       "200"
      ]
     },
     "execution_count": 175,
     "metadata": {},
     "output_type": "execute_result"
    }
   ],
   "source": [
    "requests.codes['OK']"
   ]
  },
  {
   "cell_type": "code",
   "execution_count": 179,
   "metadata": {},
   "outputs": [
    {
     "data": {
      "text/plain": [
       "'OK'"
      ]
     },
     "execution_count": 179,
     "metadata": {},
     "output_type": "execute_result"
    }
   ],
   "source": [
    "rp.response[0].reason"
   ]
  },
  {
   "cell_type": "code",
   "execution_count": 145,
   "metadata": {},
   "outputs": [
    {
     "name": "stdout",
     "output_type": "stream",
     "text": [
      "OK\n",
      "OK\n",
      "OK\n",
      "OK\n",
      "OK\n",
      "OK\n",
      "OK\n",
      "OK\n",
      "OK\n",
      "OK\n",
      "OK\n",
      "OK\n",
      "OK\n",
      "OK\n",
      "OK\n",
      "OK\n",
      "Moved Permanently\n",
      "Forbidden\n",
      "OK\n",
      "OK\n",
      "OK\n",
      "OK\n",
      "OK\n",
      "Found\n",
      "Found\n",
      "OK\n",
      "Not Found\n"
     ]
    }
   ],
   "source": [
    "for r in rp.response:\n",
    "  print (r.reason)"
   ]
  },
  {
   "cell_type": "code",
   "execution_count": 182,
   "metadata": {},
   "outputs": [],
   "source": [
    "successfulEntries = rp[rp['response code'] == 200]['entries']"
   ]
  },
  {
   "cell_type": "code",
   "execution_count": 297,
   "metadata": {},
   "outputs": [
    {
     "name": "stdout",
     "output_type": "stream",
     "text": [
      "<title>2 signs you're getting AirTag stalked</title> <pubDate>Sat, 03 Feb 2024 19:00:00 +0000</pubDate>\n",
      "<link>http://sites.libsyn.com/115469/2-signs-youre-getting-airtag-stalked</link> \n",
      "\n",
      "\n",
      "<title>TNB Tech Minute: Joe Rogan Gets New Spotify Deal</title> <pubDate>Fri, 02 Feb 2024 21:55:00 -0000</pubDate>\n",
      "<item>\n",
      "<title>TNB Tech Minute: Joe Rogan Gets New Spotify Deal</title>\n",
      "<description>Plus: Tesla recalls more than 2 million vehicles over an issue with visual warnings. And the Justice Department charges three people who allegedly stole $400 million from FTX. Alex Ossola hosts. \n",
      "\n",
      "Learn more about your ad choices. Visit megaphone.fm/adchoices</description>\n",
      "<pubDate>Fri, 02 Feb 2024 21:55:00 -0000</pubDate>\n",
      "<itunes:episodeType>full</itunes:episodeType>\n",
      "<itunes:author>The Wall Street Journal</itunes:author>\n",
      "<itunes:subtitle/>\n",
      "<itunes:summary>Plus: Tesla recalls more than 2 million vehicles over an issue with visual warnings. And the Justice Department charges three people who allegedly stole $400 million from FTX. Alex Ossola hosts. \n",
      "\n",
      "Learn more about your ad choices. Visit megaphone.fm/adchoices</itunes:summary>\n",
      "<content:encoded>\n",
      "        &lt;p&gt;Plus: Tesla recalls more than 2 million vehicles over an issue with visual warnings. And the Justice Department charges three people who allegedly stole $400 million from FTX. Alex Ossola hosts. &lt;/p&gt;\n",
      "&lt;p&gt; &lt;/p&gt;&lt;p&gt;Learn more about your ad choices. Visit &lt;a href=\"https://megaphone.fm/adchoices\"&gt;megaphone.fm/adchoices&lt;/a&gt;&lt;/p&gt;\n",
      "      </content:encoded>\n",
      "<itunes:duration>139</itunes:duration>\n",
      "<guid isPermaLink=\"false\">ed17e80e-c215-11ee-9bba-8fb80f1f3536</guid>\n",
      "<enclosure length=\"0\" type=\"audio/mpeg\" url=\"https://pdst.fm/e/chrt.fm/track/1F1B1F/traffic.megaphone.fm/WSJ8264575246.mp3?updated=1706911296\"/>\n",
      "</item> \n",
      "\n",
      "\n",
      "<title>Apple’s Uncanny Valley Pro</title> <pubDate>Thu, 01 Feb 2024 10:00:00 -0000</pubDate>\n",
      "<link>https://play.prx.org/listen?ge=prx_5901_23b81987-2806-44ae-bfbd-2241ea70452b&amp;uf=https%3A%2F%2Fpublicfeeds.net%2Ff%2F5901%2Fgadget-lab</link> \n",
      "\n",
      "\n",
      "<title>Episode 382 - Electronic Design Automation 101</title> <pubDate>Wed, 31 Jan 2024 13:00:22 +0000</pubDate>\n",
      "<link>https://soundcloud.com/techontap_podcast/episode-382-electronic-design-automation-101</link> \n",
      "\n",
      "\n",
      "<title>179: Linux Bubble | Linux Out Loud</title> <pubDate>Sat, 03 Feb 2024 00:00:00 -0500</pubDate>\n",
      "<link>https://dlnxtend.com/179</link> \n",
      "\n",
      "\n",
      "<title>Linux After Dark – Episode 62</title> <pubDate>Fri, 02 Feb 2024 15:56:13 +0000</pubDate>\n",
      "<link>https://latenightlinux.com/linux-after-dark-episode-62/</link> \n",
      "\n",
      "\n",
      "<title>356: Ubuntu Snaps: Universally Helping Linux or Snapocalypse?</title> <pubDate>Mon, 29 Jan 2024 23:04:17 +0000</pubDate>\n",
      "<link>https://destinationlinux.org/episode-356/</link> \n",
      "\n",
      "\n",
      "<title>547: Behind the Shelves</title> <pubDate>Sun, 28 Jan 2024 12:00:00 -0800</pubDate>\n",
      "<link>https://linuxunplugged.com/547</link> \n",
      "\n",
      "\n",
      "<title>Enterprise Linux Security Episode 81 – The VMware Graveyard</title> <pubDate>Wed, 31 Jan 2024 21:30:08 +0000</pubDate>\n",
      "<link>https://enterpriselinuxsecurity.show/2024/01/31/enterprise-linux-security-episode-81-the-vmware-graveyard/</link> \n",
      "\n",
      "\n",
      "<title>Linux Dev Time – Episode 90</title> <pubDate>Sun, 28 Jan 2024 11:56:44 +0000</pubDate>\n",
      "<link>https://latenightlinux.com/linux-dev-time-episode-90/</link> \n",
      "\n",
      "\n",
      "<title>LHS Episode #531: Tailscale Deep Dive</title> <pubDate>Sat, 03 Feb 2024 16:00:00 +0000</pubDate>\n",
      "<link>https://lhspodcast.info/2024/02/lhs-episode-531-tailscale-deep-dive/</link> \n",
      "\n",
      "\n",
      "<title>250: Gentoo Linux, Firefox 122, Parrot OS, Valve Proton &amp; more Linux news</title> <pubDate>Sat, 27 Jan 2024 20:49:01 +0000</pubDate>\n",
      "<link>https://tuxdigital.com/podcasts/this-week-in-linux/twil-250/</link> \n",
      "\n",
      "\n",
      "<title>Episode 115: This Episode Was (not) Generated By AI</title> <pubDate>Thu, 25 Jan 2024 15:35:38 +0000</pubDate>\n",
      "<link>https://linuxlads.com/episodes/115</link> \n",
      "\n",
      "\n",
      "<title>ULS 132: A Big Bucket of Binaries - Predictions, Distros, and the Year in Review</title> <pubDate>Tue, 02 Jan 2024 11:20:39 PST</pubDate>\n",
      "<link>https://twit.tv/shows/untitled-linux-show/episodes/132</link> \n",
      "\n",
      "\n",
      "<title>725: Safari is the New Chrome - Jen Simmons of Apple</title> <pubDate>Fri, 02 Feb 2024 10:00:00 +0000</pubDate>\n",
      "<link>https://syntax.fm/725</link> \n",
      "\n",
      "\n",
      "<title>Angular Signals</title> <pubDate>Thu, 01 Feb 2024 17:45:00 +0000</pubDate>\n",
      "<link>https://changelog.com/jsparty/310</link> \n",
      "\n",
      "\n",
      "<title>The Missteps of GraphQL and the Promise of Progressive Enhancement</title> <pubDate>Thu, 01 Feb 2024 08:00:00 GMT</pubDate>\n",
      "<link>https://podcasters.spotify.com/pod/show/whiskey-web-and-whatnot/episodes/The-Missteps-of-GraphQL-and-the-Promise-of-Progressive-Enhancement-e2f1bpr</link> \n",
      "\n",
      "\n",
      "<title>Great Starting Points for Contributing to Open Source</title> <pubDate>Fri, 02 Feb 2024 12:00:00 +0000</pubDate>\n",
      "<link>https://realpython.com/podcasts/rpp/190/</link> \n",
      "\n",
      "\n",
      "<title>Python on Hardware weekly video Jan 31, 2024</title> <pubDate>Thu, 01 Feb 2024 00:00:00 +0000</pubDate>\n",
      "<item>\n",
      "<title>Python on Hardware weekly video Jan 31, 2024</title>\n",
      "<guid isPermaLink=\"false\">https://adafruit-podcasts.s3.amazonaws.com/media/9zUwc-CX4Zc_360.mp4</guid>\n",
      "<category>Science &amp; Technology</category>\n",
      "<enclosure length=\"11456210\" type=\"video/mp4\" url=\"https://adafruit-podcasts.s3.amazonaws.com/media/9zUwc-CX4Zc_360.mp4\"/>\n",
      "<pubDate>Thu, 01 Feb 2024 00:00:00 +0000</pubDate>\n",
      "<itunes:author>Adafruit Industries</itunes:author>\n",
      "<itunes:image href=\"https://adafruit-podcasts.s3.amazonaws.com/python_on_hardware/image.jpg\"/>\n",
      "<itunes:duration>268</itunes:duration>\n",
      "<itunes:summary>The wonderful world of Python on hardware! Episode 264 (January 31, 2024). This is our weekly Python video highlights! Ladyada and PT review the Python on hardware news of the week.\n",
      "\n",
      "The news comes from the Python community, Discord, Adafruit communities and more. It’s part of the comprehensive newsletter we do each week. \n",
      "\n",
      "The video playlist of episodes is here:\n",
      "http://adafru.it/pohepisodes\n",
      "\n",
      "***************************************************\n",
      "Sign up for the Python on Microcontrollers weekly email newsletter here:\n",
      "https://www.adafruitdaily.com/ \n",
      "***************************************************\n",
      "\n",
      "Read the newsletters past and present at\n",
      "https://www.adafruitdaily.com/category/circuitpython/\n",
      "\n",
      "Learn all about CircuitPython here:\n",
      "https://www.circuitpython.org/\n",
      "https://adafruit.com/circuitpython/ \n",
      "---------------------------------------------------------------\n",
      "\n",
      "Join us on Discord! https://adafru.it/discord/ \n",
      "\n",
      "Visit the Adafruit shop online, we're open for business - http://www.adafruit.com\n",
      "\n",
      "Adafruit on Instagram: https://www.instagram.com/adafruit\n",
      "\n",
      "Subscribe to Adafruit on YouTube: http://adafru.it/subscribe\n",
      "\n",
      "New tutorials on the Adafruit Learning System: http://learn.adafruit.com/</itunes:summary>\n",
      "<description>\n",
      "          The wonderful world of Python on hardware! Episode 264 (January 31, 2024). This is our weekly Python video highlights! Ladyada and PT review the Python on hardware news of the week.\n",
      "\n",
      "The news comes from the Python community, Discord, Adafruit communities and more. It’s part of the comprehensive newsletter we do each week. \n",
      "\n",
      "The video playlist of episodes is here:\n",
      "http://adafru.it/pohepisodes\n",
      "\n",
      "***************************************************\n",
      "Sign up for the Python on Microcontrollers weekly email newsletter here:\n",
      "https://www.adafruitdaily.com/ \n",
      "***************************************************\n",
      "\n",
      "Read the newsletters past and present at\n",
      "https://www.adafruitdaily.com/category/circuitpython/\n",
      "\n",
      "Learn all about CircuitPython here:\n",
      "https://www.circuitpython.org/\n",
      "https://adafruit.com/circuitpython/ \n",
      "---------------------------------------------------------------\n",
      "\n",
      "Join us on Discord! https://adafru.it/discord/ \n",
      "\n",
      "Visit the Adafruit shop online, we're open for business - http://www.adafruit.com\n",
      "\n",
      "Adafruit on Instagram: https://www.instagram.com/adafruit\n",
      "\n",
      "Subscribe to Adafruit on YouTube: http://adafru.it/subscribe\n",
      "\n",
      "New tutorials on the Adafruit Learning System: http://learn.adafruit.com/\n",
      "        </description>\n",
      "</item> \n",
      "\n",
      "\n",
      "<title>#369 The Readability Episode</title> <pubDate>Tue, 30 Jan 2024 00:00:00 -0800</pubDate>\n",
      "<link>https://pythonbytes.fm/episodes/show/369/the-readability-episode</link> \n",
      "\n",
      "\n",
      "<title>S2 Episode 1 - New Year, New Season! 🎉</title> <pubDate>Fri, 12 Jan 2024 18:10:21 GMT</pubDate>\n",
      "<link>https://podcasters.spotify.com/pod/show/sad-python-girls-club/episodes/S2-Episode-1---New-Year--New-Season-e2eb1ft</link> \n",
      "\n",
      "\n",
      "<title>TNW 322: The Rising Costs of Streaming Services - Amazon &amp; Roomba, Vision Pro, Data Centers</title> <pubDate>Thu, 01 Feb 2024 15:00:00 PST</pubDate>\n",
      "<link>https://twit.tv/shows/tech-news-weekly/episodes/322</link> \n",
      "\n",
      "\n"
     ]
    }
   ],
   "source": [
    "for i in successfulEntries:\n",
    "  print( i[0].find('title'), i[0].pubDate )\n",
    "  print( i[0].link if i[0].link else i[0] , '\\n\\n' )"
   ]
  },
  {
   "cell_type": "code",
   "execution_count": 300,
   "metadata": {},
   "outputs": [],
   "source": [
    "sample = successfulEntries[0]"
   ]
  },
  {
   "cell_type": "code",
   "execution_count": null,
   "metadata": {},
   "outputs": [],
   "source": []
  }
 ],
 "metadata": {
  "kernelspec": {
   "display_name": "Python 3",
   "language": "python",
   "name": "python3"
  },
  "language_info": {
   "codemirror_mode": {
    "name": "ipython",
    "version": 3
   },
   "file_extension": ".py",
   "mimetype": "text/x-python",
   "name": "python",
   "nbconvert_exporter": "python",
   "pygments_lexer": "ipython3",
   "version": "3.10.11"
  }
 },
 "nbformat": 4,
 "nbformat_minor": 2
}
